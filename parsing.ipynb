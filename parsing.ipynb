{
 "cells": [
  {
   "cell_type": "code",
   "execution_count": 12,
   "metadata": {},
   "outputs": [
    {
     "data": {
      "text/plain": [
       "'\\n# Instalación de librerias\\n%pip install undetected-chromedriver\\n%pip install requests beautifulsoup4\\n%pip install html2text\\n%pip install gitpython\\n'"
      ]
     },
     "execution_count": 12,
     "metadata": {},
     "output_type": "execute_result"
    }
   ],
   "source": [
    "\"\"\"\n",
    "# Instalación de librerias\n",
    "%pip install undetected-chromedriver\n",
    "%pip install requests beautifulsoup4\n",
    "%pip install html2text\n",
    "%pip install gitpython\n",
    "\"\"\""
   ]
  },
  {
   "cell_type": "code",
   "execution_count": 2,
   "metadata": {},
   "outputs": [],
   "source": [
    "import os\n",
    "import re\n",
    "import html2text\n",
    "from git import Repo\n",
    "import undetected_chromedriver as uc\n",
    "from selenium.webdriver.common.by import By\n",
    "from selenium.webdriver.support.ui import WebDriverWait\n",
    "from selenium.webdriver.support import expected_conditions as EC"
   ]
  },
  {
   "cell_type": "code",
   "execution_count": 10,
   "metadata": {},
   "outputs": [
    {
     "name": "stderr",
     "output_type": "stream",
     "text": [
      "<>:43: SyntaxWarning: invalid escape sequence '\\D'\n",
      "<>:43: SyntaxWarning: invalid escape sequence '\\D'\n",
      "C:\\Users\\Ruki\\AppData\\Local\\Temp\\ipykernel_28732\\1532653314.py:43: SyntaxWarning: invalid escape sequence '\\D'\n",
      "  with open(f\"{path}\\Description.md\", 'w', encoding='utf-8') as file:\n"
     ]
    }
   ],
   "source": [
    "def parser(path):\n",
    "    # Guarda el titulo y la liga del problema\n",
    "    title = f\"###**[{path}]({url})**\"\n",
    "    \n",
    "    # Utilizamos una expresión regular para encontrar el texto después del primer punto y espacio\n",
    "    name = re.search(r'\\.\\s*(.*)', path).group(1)\n",
    "\n",
    "    # Convertimos todas las letras mayúsculas a minúsculas y reemplazamos espacios con guiones\n",
    "    name = name.lower().replace(' ', '-')\n",
    "    #Guardamos el URL\n",
    "    url = f\"https://leetcode.com/problems/{name}/description/\"\n",
    "    \n",
    "    options = uc.ChromeOptions() \n",
    "    options.headless = False  # Set headless to False to run in non-headless mode\n",
    "\n",
    "    try:\n",
    "        driver = uc.Chrome(use_subprocess=True, options=options) \n",
    "        driver.get(url) \n",
    "        driver.maximize_window() \n",
    "\n",
    "        # Espera a que se cargue la información deseada\n",
    "        wait = WebDriverWait(driver, 10)\n",
    "        element = wait.until(EC.presence_of_element_located((By.CLASS_NAME, \"flexlayout__tab\")))\n",
    "\n",
    "        element_html = driver.find_element(By.CLASS_NAME, \"flexlayout__tab\").get_attribute('outerHTML')\n",
    "\n",
    "        # Convierte HTML a Markdown\n",
    "        markdown_text = html2text.html2text(element_html)\n",
    "        lines = markdown_text.split(\"\\n\")\n",
    "\n",
    "        dificultyList = [\"Easy\", \"Medium\", \"Hard\"]\n",
    "        dificulty = next((f\"Dificulty: {line}\" for line in lines if line in dificultyList), None)\n",
    "\n",
    "        # Se guarda solamente la información del texto\n",
    "        element_html = driver.find_element(By.CLASS_NAME, \"elfjS\").get_attribute('outerHTML')\n",
    "\n",
    "        # Convierte HTML a Markdown\n",
    "        markdown_text = html2text.html2text(element_html)\n",
    "\n",
    "        # Construir el texto completo con las dos líneas adicionales\n",
    "        texto_completo = '\\n'.join([title, dificulty, markdown_text])\n",
    "\n",
    "        with open(f\"{path}\\Description.md\", 'w', encoding='utf-8') as file:\n",
    "            file.write(texto_completo)\n",
    "        driver.close()\n",
    "    except Exception as e:\n",
    "        print(f\"Error al procesar el problema: {e}\")"
   ]
  },
  {
   "cell_type": "code",
   "execution_count": 9,
   "metadata": {},
   "outputs": [],
   "source": [
    "list = os.listdir()\n",
    "for name in list:\n",
    "    if os.path.isdir(name):\n",
    "        if \"Description.md\" in os.listdir(name):\n",
    "            continue\n",
    "        else:\n",
    "            parser(name)\n",
    "\n",
    "    \"\"\"\n",
    "# Ruta local del repositorio\n",
    "repo_path = '/ruta/a/tu/repo'\n",
    "\n",
    "# Ruta de la carpeta que quieres subir\n",
    "folder_path = '/ruta/a/tu/carpeta'\n",
    "\n",
    "# Inicializar el repositorio\n",
    "repo = Repo(repo_path)\n",
    "\n",
    "# Obtener la lista de archivos en la carpeta del repositorio\n",
    "repo_files = [file.path for file in repo.index.entries.keys()]\n",
    "\n",
    "# Recorrer la carpeta y agregar archivos nuevos al índice\n",
    "for root, dirs, files in os.walk(folder_path):\n",
    "    for file in files:\n",
    "        file_path = os.path.join(root, file)\n",
    "        relative_file_path = os.path.relpath(file_path, folder_path)\n",
    "        if relative_file_path not in repo_files:\n",
    "            repo.index.add([relative_file_path])\n",
    "\n",
    "# Confirmar los cambios\n",
    "commit_message = 'Agregando archivos nuevos desde Python'\n",
    "repo.index.commit(commit_message)\n",
    "\n",
    "# Empujar cambios al repositorio remoto (GitHub)\n",
    "origin = repo.remote(name='origin')\n",
    "origin.push()\n",
    "    \"\"\"\n"
   ]
  },
  {
   "cell_type": "code",
   "execution_count": 8,
   "metadata": {},
   "outputs": [],
   "source": []
  }
 ],
 "metadata": {
  "kernelspec": {
   "display_name": "Python 3",
   "language": "python",
   "name": "python3"
  },
  "language_info": {
   "codemirror_mode": {
    "name": "ipython",
    "version": 3
   },
   "file_extension": ".py",
   "mimetype": "text/x-python",
   "name": "python",
   "nbconvert_exporter": "python",
   "pygments_lexer": "ipython3",
   "version": "3.12.0"
  }
 },
 "nbformat": 4,
 "nbformat_minor": 2
}
